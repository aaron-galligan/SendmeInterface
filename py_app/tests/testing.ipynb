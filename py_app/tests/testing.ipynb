{
 "cells": [
  {
   "cell_type": "code",
   "execution_count": 1,
   "metadata": {},
   "outputs": [
    {
     "ename": "RuntimeError",
     "evalue": "asyncio.run() cannot be called from a running event loop",
     "output_type": "error",
     "traceback": [
      "\u001b[1;31m---------------------------------------------------------------------------\u001b[0m",
      "\u001b[1;31mRuntimeError\u001b[0m                              Traceback (most recent call last)",
      "Cell \u001b[1;32mIn[1], line 17\u001b[0m\n\u001b[0;32m     14\u001b[0m     \u001b[38;5;28;01mif\u001b[39;00m stderr:\n\u001b[0;32m     15\u001b[0m         \u001b[38;5;28mprint\u001b[39m(\u001b[38;5;124mf\u001b[39m\u001b[38;5;124m'\u001b[39m\u001b[38;5;124m[stderr]\u001b[39m\u001b[38;5;130;01m\\n\u001b[39;00m\u001b[38;5;132;01m{\u001b[39;00mstderr\u001b[38;5;241m.\u001b[39mdecode()\u001b[38;5;132;01m}\u001b[39;00m\u001b[38;5;124m'\u001b[39m)\n\u001b[1;32m---> 17\u001b[0m \u001b[43masyncio\u001b[49m\u001b[38;5;241;43m.\u001b[39;49m\u001b[43mrun\u001b[49m\u001b[43m(\u001b[49m\u001b[43mrun\u001b[49m\u001b[43m(\u001b[49m\u001b[38;5;124;43m'\u001b[39;49m\u001b[38;5;124;43mls /zzz\u001b[39;49m\u001b[38;5;124;43m'\u001b[39;49m\u001b[43m)\u001b[49m\u001b[43m)\u001b[49m\n",
      "File \u001b[1;32m~\\AppData\\Local\\Programs\\Python\\Python39\\lib\\asyncio\\runners.py:33\u001b[0m, in \u001b[0;36mrun\u001b[1;34m(main, debug)\u001b[0m\n\u001b[0;32m      9\u001b[0m \u001b[38;5;250m\u001b[39m\u001b[38;5;124;03m\"\"\"Execute the coroutine and return the result.\u001b[39;00m\n\u001b[0;32m     10\u001b[0m \n\u001b[0;32m     11\u001b[0m \u001b[38;5;124;03mThis function runs the passed coroutine, taking care of\u001b[39;00m\n\u001b[1;32m   (...)\u001b[0m\n\u001b[0;32m     30\u001b[0m \u001b[38;5;124;03m    asyncio.run(main())\u001b[39;00m\n\u001b[0;32m     31\u001b[0m \u001b[38;5;124;03m\"\"\"\u001b[39;00m\n\u001b[0;32m     32\u001b[0m \u001b[38;5;28;01mif\u001b[39;00m events\u001b[38;5;241m.\u001b[39m_get_running_loop() \u001b[38;5;129;01mis\u001b[39;00m \u001b[38;5;129;01mnot\u001b[39;00m \u001b[38;5;28;01mNone\u001b[39;00m:\n\u001b[1;32m---> 33\u001b[0m     \u001b[38;5;28;01mraise\u001b[39;00m \u001b[38;5;167;01mRuntimeError\u001b[39;00m(\n\u001b[0;32m     34\u001b[0m         \u001b[38;5;124m\"\u001b[39m\u001b[38;5;124masyncio.run() cannot be called from a running event loop\u001b[39m\u001b[38;5;124m\"\u001b[39m)\n\u001b[0;32m     36\u001b[0m \u001b[38;5;28;01mif\u001b[39;00m \u001b[38;5;129;01mnot\u001b[39;00m coroutines\u001b[38;5;241m.\u001b[39miscoroutine(main):\n\u001b[0;32m     37\u001b[0m     \u001b[38;5;28;01mraise\u001b[39;00m \u001b[38;5;167;01mValueError\u001b[39;00m(\u001b[38;5;124m\"\u001b[39m\u001b[38;5;124ma coroutine was expected, got \u001b[39m\u001b[38;5;132;01m{!r}\u001b[39;00m\u001b[38;5;124m\"\u001b[39m\u001b[38;5;241m.\u001b[39mformat(main))\n",
      "\u001b[1;31mRuntimeError\u001b[0m: asyncio.run() cannot be called from a running event loop"
     ]
    }
   ],
   "source": [
    "import asyncio\n",
    "\n",
    "async def run(cmd):\n",
    "    proc = await asyncio.create_subprocess_shell(\n",
    "        cmd,\n",
    "        stdout=asyncio.subprocess.PIPE,\n",
    "        stderr=asyncio.subprocess.PIPE)\n",
    "\n",
    "    stdout, stderr = await proc.communicate()\n",
    "\n",
    "    print(f'[{cmd!r} exited with {proc.returncode}]')\n",
    "    if stdout:\n",
    "        print(f'[stdout]\\n{stdout.decode()}')\n",
    "    if stderr:\n",
    "        print(f'[stderr]\\n{stderr.decode()}')\n",
    "\n",
    "\n",
    "asyncio.run(run('ls /zzz'))"
   ]
  },
  {
   "cell_type": "code",
   "execution_count": 2,
   "metadata": {},
   "outputs": [
    {
     "name": "stdout",
     "output_type": "stream",
     "text": [
      "[116, 101, 115, 116]\n",
      "[116, 101, 115, 116]\n"
     ]
    }
   ],
   "source": [
    "print(list(b\"test\"))\n",
    "test = \"test\"\n",
    "print(list(test.encode('utf-8')))"
   ]
  },
  {
   "cell_type": "code",
   "execution_count": 4,
   "metadata": {},
   "outputs": [
    {
     "name": "stdout",
     "output_type": "stream",
     "text": [
      "bytearray(b\"\\x89PNG\\r\\n\\x1a\\n\\x00\\x00\\x00\\rIHDR\\x00\\x00\\x01>\\x00\\x00\\x00\\x9f\\x08\\x03\\x00\\x00\\x00W\\xd1E\\xfd\\x00\\x00\\x003PLTE\\xff\\xff\\xff\\x00\\x00\\x00\\x00\\x00f\\xcc\\x00\\x00\\x95\\x95\\xb8\\x95\\x95\\x95\\x00\\x00[\\xfc\\xef\\xef\\xfb\\xec\\xec\\xcf\\x15\\x15\\xd0$$\\x00\\x00Y\\x00\\x00W\\xcf\\x1d\\x1d\\xd0!!\\xf9\\xe7\\xe7\\xcf\\x18\\x18=\\xc3\\xa2p\\x00\\x00\\x04\\xb6IDATx\\x9c\\xe5\\xddi\\x8e\\xda@\\x14\\x85\\xd1J\\xdc\\x13\\x9d@\\xb3\\xff\\xd5\\x86\\x87\\xa2(4\\xb6\\xa9\\xe1\\xdd\\xc1\\xe6.\\xc0?\\x8e>\\tC\\x95D\\xf9a\\xbd\\xd7\\x97\\xb7\\x9f\\xce+j\\xa0\\xd5\\xbd\\x96\\xf2\\xf2[M\\xb46k\\xbe\\x8b\\xde\\xc5\\xcf\\xb9?g\\xbe\\xab\\x9ew\\x7f\\xc6|\\x7f\\xf5\\xac\\xfb\\xf3\\xe5\\xfb\\xa7w\\xf1\\xfb\\xa5fZ\\x9a-\\xdf\\x7fz\\xc6\\xfd\\xb9\\xf2\\xdd\\xe8\\xf9\\xf6g\\xca\\xf7M\\xcf\\xb6?O\\xbe;=\\xd7\\xfe,\\xf9f\\xf4L\\xfbs\\xe4\\x9b\\xd5\\xf3\\xec\\xcf\\x90oA\\xcf\\xb2??\\xbeE=G?;\\xbe\\x15=C?7\\xbeU=??3\\xbe\\x07zv~^|\\x0f\\xf5\\xdc\\xfc\\xac\\xf8*\\xf4\\xcc\\xde_\\x9c\\xf8\\xaa\\xf4\\xbc\\xfa3\\xe2\\xab\\xd4\\xb3\\xea\\xcf\\x87\\xafZ\\xcf\\xa9?\\x1b\\xbe\\x06=\\xa3\\xfe\\\\\\xf8\\x9a\\xf4|\\xfa3\\xe1k\\xd4\\xb3\\xe9\\xcf\\x83\\xafY\\xcf\\xa5?\\x0b\\xbe\\x0e=\\x93\\xfe\\x1c\\xf8\\xba\\xf4<\\xfa3\\xe0\\xeb\\xd4\\xb38?\\xd7\\xf3u\\xeb9\\xf4\\'\\xe7\\x1b\\xd03\\xe8O\\xcd7\\xa4\\xa7\\xefO\\xcc7\\xa8\\'\\xefO\\xcb7\\xac\\xa7\\xeeO\\xca\\x97\\xa0\\'\\xeeO\\xc9\\x97\\xa2\\xa7\\xedO\\xc8\\x97\\xa4\\'\\xfd\\xfe\\xa1\\xe3K\\xd3S\\xf6\\'\\xe3K\\xd4\\x13\\xf6\\xa7\\xe2K\\xd5\\xd3\\xf5\\'\\xe2K\\xd6\\x93\\xf5\\xa7\\xe1K\\xd7S\\xf5\\'\\xe1\\x03\\xe8\\x89\\xfaS\\xf0A\\xf44\\xfd\\t\\xf8@z\\x92\\xfe\\xf8|0=E\\x7ft>\\xa0\\x9e\\xc0\\x8f\\xcd\\x07\\xd5\\xe3\\xfb\\x91\\xf9\\xc0zt?.\\x1f\\\\\\x8f\\xedG\\xe5#\\xe8\\x91\\xfd\\x98|\\x14=\\xee\\xfb\\x0b\\x91\\x8f\\xa4G\\xed\\x8f\\xc7G\\xd3c\\xf6G\\xe3#\\xea\\x11\\xfbc\\xf1Q\\xf5x\\xfd\\x91\\xf8\\xc8z\\xb4\\xfe8|t=V\\x7f\\x14>\\x81\\x1e\\xa9?\\x06\\x9fD\\x8fs~N\\xe0\\x13\\xe9Q\\xfa\\xc3\\xf3\\xc9\\xf4\\x18\\xfd\\xc1\\xf9\\x84z\\x84\\xfe\\xd0|R=|\\x7f`>\\xb1\\x1e\\xbc?,\\x9f\\\\\\x0f\\xdd\\x1f\\x94\\xcf@\\x0f\\xdc\\x1f\\x92\\xcfB\\x0f\\xdb\\x1f\\x90\\xcfD\\x0f\\xda\\x1f\\x8e\\xcfF\\x0f\\xf9\\xfd\\x17\\xc6g\\xa4\\x07\\xec\\x0f\\xc5g\\xa5\\x87\\xeb\\x0f\\xc4g\\xa6\\x07\\xeb\\x0f\\xc3g\\xa7\\x87\\xea\\x0f\\xc2g\\xa8\\x07\\xea\\x0f\\xc1g\\xa9\\x87\\xe9\\x0f\\xc0g\\xaa\\x07\\xe9/\\x9f\\xcfV\\x0f\\xe1\\x97\\xceg\\xac\\x07\\xf0\\xcb\\xe6K\\xd6\\xfb\\xfa\\xca}^\\xb6_2_\\xb2\\xde\\xc7\\xf1\\xf8\\x91\\xfb\\xc4d\\xbf\\\\\\xbed\\xbd\\xf7\\xc34\\x1d\\xdes\\x9f\\x99\\xeb\\x97\\xca\\x97\\xdd\\xde\\xe7t\\xd9gv\\x7f\\x99\\xef/\\x99|\\x80\\xf6b\\xce\\xfd%\\xf2A\\xda3\\xef/\\x8f\\x0f\\xd4\\x9ew\\x7fi|\\xb0\\xf6\\xac\\xfb\\xcb\\xe2\\xcb\\xd6;L7;\\x98\\xbe\\xbf$\\xf1A\\xdb3\\xee/\\x87\\x0f\\xdc\\x9eo\\x7f)|\\xd9\\x9f\\x1aw\\xed]\\xfb\\xcb\\xfe\\xfc\\xc88\\xbf\\xcc\\xe0#\\xb4\\xe7\\xda_\\x02\\x1f\\xa5=\\xd3\\xfe\\xc6\\xf9H\\xedy\\xf67\\xccGk\\xcf\\xb2\\xbfQ>b{\\x8e\\xfd\\r\\xf2e\\xb7wZ\\xd7\\x9b\\xa6\\x93W\\x7fc|\\xe4\\xf6\\xfc\\xfa\\x1b\\xe2\\xa3\\xb7g\\xd7\\xdf\\x08_v{\\xe7\\x1a\\xbdi:\\x1b\\xf57\\xc0\\'i\\x0f\\xd2_\\xff\\xf7\\xdf~\\xbe\\xf4S\\xa1Z\\xbdi\\xf29?\\xea\\xe6\\xcbn\\xafA\\xef\\xe2\\xe7\\xd2_/\\x9f\\xb0=\\xa7\\xfe:\\xf9\\xa4\\xed\\x19\\xf5\\xd7\\xc7\\'n\\xcf\\xa7\\xbf.\\xbe\\xec\\xf6*\\xdfXnwv\\xe8\\xaf\\x87/\\xbb\\xbd\\xea7\\x96\\xdb\\x9d\\x0c\\xfa\\xeb\\xe0\\xb3h\\x0f\\xd2_\\xbb_;\\x9fI{\\x1e\\xfd5\\xf3\\x01O\\xc3\\xdb\\'??o\\xe53j\\xcf\\xa1\\xbfF>\\xab\\xf6\\x0c\\xfak\\xe3\\x83\\x9f\\x86\\xb7O{~\\xde\\xc4g\\xd7^L\\xda_\\x0b\\x9fa{1e\\x7f\\r|\\x96\\xed\\xc5\\x84\\xfd\\xd5\\xf3\\x99\\xb6\\x17\\xd3\\xf5W\\xcd\\'8\\x15\\xaa\\x9f\\xec\\xfc\\xa8\\x96\\xcf\\xb8\\xbd\\x98\\xaa\\xbfJ>\\xeb\\xf6b\\xa2\\xfe\\xea\\xf8\\xa871\\xfa\\x96~\\x7f\\xa3\\xaa\\xbf*>\\xfb\\xf6b\\x92\\xfej\\xf86\\xd0^Lq\\x7f\\xa8\\x82o\\x13\\xed\\xc5\\x04\\xfd=\\xe6\\xdbH{1~\\x7f\\x0f\\xf96\\xd3^\\x8c\\xde\\xdf#>\\xd9M\\x8c\\xbe\\xb1\\xef\\x0f=\\xe0\\xdbT{1r\\x7f\\xeb|\\x1bk/\\xc6\\xedo\\x95Ot\\x03ml\\xd4\\xfbkk|\\x1bl/\\xc6\\xbc\\xbf\\xb6\\xc2\\xb7\\xc9\\xf6b\\xc4\\xfe\\x96\\xf9\\xe4\\xb7\\x80\\xfa\\xc7\\xbb?\\xb4\\xc8gp\\x0bh\\xc0\\x8f\\xd5\\xdf\\x12\\xdf\\x86\\xdb\\xbb\\xfa\\x91\\xfa[\\xe0\\xdbt{W?N\\x7f\\xf3|\\x1bo\\xef\\xeaG\\xe9o\\x96\\xcf\\xec&F\\xdf(\\xf77\\xe6\\xf8ln\\xa0\\x8d\\x8dq\\x7fr\\x86o\\x17\\xed\\xc5\\x08\\xfd\\xdd\\xf3\\xd9\\x9e\\x86\\xb7\\x0f\\x7f~~\\xc7\\xb7\\x9b\\xf6b\\xf0\\xfe\\xbe\\xf3\\xed\\xa8\\xbd\\x18\\xba\\xbf\\x82m\\x0f\\xf8\\xcb|\\xdd\\xd2\\xcf\\xcf\\xdfV\\xf8v\\xd6^\\x0c\\xdb_\\xd9u{1\\xe8\\xfd\\x8d\\xb2\\xef\\xf6b\\xc8\\xfe\\xca\\xce\\xdb\\x8b\\x01\\xfb+0=\\x93\\xf6b\\xb8\\xf3\\xa3\\xb2\\xfb\\xf6b\\xb0\\xfe\\xca\\xfe\\xdb\\x8b\\xa1\\xfa+\\x98O\\r\\xab\\xf6b\\xa0\\xfbk\\xe5\\x19\\xda\\x8ba\\xfa+O\\xd1^\\x0cr\\x7f\\xa8<G{1D\\x7f\\xe5I\\xda\\x8b\\x01\\xfa+\\xcf\\xd2^,\\xbf\\xbf\\x92\\xfd\\x0f\\x11\\x82S\\xa1\\xfa\\x1d\\xb3\\xff\\xbf\\xe2\\x0fPJ\\xf0\\x95b\\xd5W\\n\\x00\\x00\\x00\\x00IEND\\xaeB`\\x82\")\n"
     ]
    }
   ],
   "source": [
    "with open(\"flag.png\", \"rb\") as f:\n",
    "    bytes = bytearray(f.read())\n",
    "print(bytes)"
   ]
  },
  {
   "cell_type": "code",
   "execution_count": null,
   "metadata": {},
   "outputs": [],
   "source": []
  }
 ],
 "metadata": {
  "kernelspec": {
   "display_name": "env",
   "language": "python",
   "name": "python3"
  },
  "language_info": {
   "codemirror_mode": {
    "name": "ipython",
    "version": 3
   },
   "file_extension": ".py",
   "mimetype": "text/x-python",
   "name": "python",
   "nbconvert_exporter": "python",
   "pygments_lexer": "ipython3",
   "version": "3.9.1"
  }
 },
 "nbformat": 4,
 "nbformat_minor": 2
}
